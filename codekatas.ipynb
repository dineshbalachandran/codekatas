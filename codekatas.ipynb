{
 "cells": [
  {
   "cell_type": "markdown",
   "metadata": {},
   "source": [
    "# Code Katas\n",
    "Keep your skills sharp by implementing fundamental (and sometimes tricky) algorithms and data structures over and over again."
   ]
  },
  {
   "cell_type": "markdown",
   "metadata": {},
   "source": [
    "## White Belt\n",
    "*Easy peasy lemon squeezy*"
   ]
  },
  {
   "cell_type": "markdown",
   "metadata": {},
   "source": [
    "### Palindrome String\n",
    "Check if input string is a palindrome. Try to only use constant extra space."
   ]
  },
  {
   "cell_type": "code",
   "execution_count": 2,
   "metadata": {},
   "outputs": [
    {
     "name": "stdout",
     "output_type": "stream",
     "text": [
      "All passed!\n"
     ]
    }
   ],
   "source": [
    "def palindrome(string):\n",
    "    \"\"\"Check if input string (all lower-case characters) is a palindrome.\"\"\"\n",
    "    # your code here\n",
    "    l = len(string) - 1\n",
    "    mid = len(string)//2\n",
    "    \n",
    "    for i in range(0, mid):\n",
    "        if string[i]!=string[l-i]:\n",
    "            return False\n",
    "    \n",
    "    return True\n",
    "    \n",
    "assert palindrome('') == True\n",
    "assert palindrome('a') == True\n",
    "assert palindrome('ab') == False\n",
    "assert palindrome('abba') == True\n",
    "assert palindrome('redivider') == True\n",
    "assert palindrome('malayalam') == True\n",
    "print('All passed!')"
   ]
  },
  {
   "cell_type": "markdown",
   "metadata": {},
   "source": [
    "### Merge Sorted\n",
    "Merge two lists sorted in descending order. Result should also be sorted in descending order."
   ]
  },
  {
   "cell_type": "code",
   "execution_count": 7,
   "metadata": {},
   "outputs": [
    {
     "name": "stdout",
     "output_type": "stream",
     "text": [
      "All passed!\n"
     ]
    }
   ],
   "source": [
    "def merge(a, b):\n",
    "    \"\"\"Merge two lists sorted in descending order.\"\"\"\n",
    "    # your code here\n",
    "    \n",
    "    m = []\n",
    "    i, j = 0, 0\n",
    "    \n",
    "    while i < len(a) and j < len(b):\n",
    "        if a[i] > b[j]:\n",
    "            m.append(a[i])\n",
    "            i += 1\n",
    "        else:\n",
    "            m.append(b[j])\n",
    "            j += 1\n",
    "    \n",
    "    while i < len(a):\n",
    "        m.append(a[i])\n",
    "        i += 1\n",
    "        \n",
    "    while j < len(b):\n",
    "        m.append(b[j])\n",
    "        j += 1\n",
    "        \n",
    "    return m\n",
    "    \n",
    "\n",
    "assert merge([], []) == []\n",
    "assert merge([1], [0]) == [1,0]\n",
    "assert merge([7,5,2,1], [2]) == [7,5,2,2,1]\n",
    "print('All passed!')"
   ]
  },
  {
   "cell_type": "markdown",
   "metadata": {},
   "source": [
    "### Length of Last Word\n",
    "Given a string of words separated by spaces, return length of last word. Think of an efficient way to do it for a string with millions of words in it."
   ]
  },
  {
   "cell_type": "code",
   "execution_count": 17,
   "metadata": {},
   "outputs": [
    {
     "name": "stdout",
     "output_type": "stream",
     "text": [
      "All passed!\n"
     ]
    }
   ],
   "source": [
    "def last_word_length(text):\n",
    "    \"\"\"Given a string of words separated by spaced, return length of last word.\"\"\"\n",
    "    # your code here\n",
    "    \n",
    "    text = text.strip()\n",
    "    i = len(text)\n",
    "    while i > 0 and text[i-1] != ' ': i -= 1\n",
    "    \n",
    "    return len(text) - i\n",
    "\n",
    "assert last_word_length('') == 0\n",
    "assert last_word_length('last   ') == 4\n",
    "assert last_word_length('string  of  words') == 5\n",
    "print('All passed!')"
   ]
  },
  {
   "cell_type": "markdown",
   "metadata": {},
   "source": [
    "## Yellow Belt\n",
    "*Requires a certain level of problem solving and coding skills*\n",
    "### Binary search\n",
    "Let's start with binary search. Implement find_in_sorted function that looks for number *target* in a sorted array *nums*. Remember, it has to run in O(logN) time."
   ]
  },
  {
   "cell_type": "code",
   "execution_count": 11,
   "metadata": {},
   "outputs": [
    {
     "name": "stdout",
     "output_type": "stream",
     "text": [
      "All passed!\n"
     ]
    }
   ],
   "source": [
    "def find_in_sorted(nums, target):\n",
    "    \"\"\"Binary search.\"\"\"\n",
    "    # your code here\n",
    "    def bsearch(nums, target, low, high):\n",
    "        \n",
    "        if low > high:\n",
    "            return -1\n",
    "        \n",
    "        mid = low + (high - low) // 2\n",
    "        \n",
    "        if nums[mid] == target:\n",
    "            return mid\n",
    "        \n",
    "        if low == high:\n",
    "            return -1\n",
    "        \n",
    "        if nums[mid] > target:\n",
    "            return bsearch(nums, target, low, mid)\n",
    "        else:\n",
    "            return bsearch(nums, target, mid + 1, high)\n",
    "        \n",
    "    return bsearch(nums, target, 0, len(nums)-1)\n",
    "\n",
    "assert find_in_sorted([], 0) == -1\n",
    "assert find_in_sorted([1,2,3], 3) == 2\n",
    "assert find_in_sorted([1,2,3], 2) == 1\n",
    "assert find_in_sorted([1,2,2,2,2,2,3], 2) in range(1, 6)\n",
    "assert find_in_sorted([1,2,3,4,6,7,8,12,13,16], 12) == 7\n",
    "print('All passed!')"
   ]
  },
  {
   "cell_type": "markdown",
   "metadata": {},
   "source": [
    "### Simplify Unix-style file path."
   ]
  },
  {
   "cell_type": "code",
   "execution_count": 17,
   "metadata": {},
   "outputs": [
    {
     "name": "stdout",
     "output_type": "stream",
     "text": [
      "All passed!\n"
     ]
    }
   ],
   "source": [
    "def simplify_path(path):\n",
    "    \"\"\"Simplify Unix-style file path.\"\"\"\n",
    "    # your code here\n",
    "    \n",
    "    stack = []    \n",
    "    stack.append('')\n",
    "    s = ''\n",
    "    \n",
    "    # constraint: 'path' always begins with a '/'\n",
    "    for i in range(1, len(path) + 1):\n",
    "        if i == len(path) or path[i] == '/':\n",
    "            \n",
    "            if s == '..':\n",
    "                if len(stack) > 1:\n",
    "                    stack.pop()\n",
    "            elif s == '.':\n",
    "                pass\n",
    "            elif s != '':              \n",
    "                stack.append(s)            \n",
    "            \n",
    "            s = ''\n",
    "        \n",
    "        else:\n",
    "            s += path[i]            \n",
    "    \n",
    "    if len(stack) == 1:\n",
    "        stack.append('')\n",
    "            \n",
    "    return '/'.join(stack)\n",
    "\n",
    "assert simplify_path('/') == '/'\n",
    "assert simplify_path('/../') == '/'\n",
    "assert simplify_path('/...') == '/...'\n",
    "assert simplify_path('/.../') == '/...'\n",
    "assert simplify_path('/foo/..') == '/'\n",
    "assert simplify_path('/foo///.//bar//') == '/foo/bar'\n",
    "print('All passed!')"
   ]
  },
  {
   "cell_type": "markdown",
   "metadata": {},
   "source": [
    "### Create Maximum Number\n",
    "Given a number with n digits represented as a string, find maximum number with k digits, 0<k<n. Output result as a string."
   ]
  },
  {
   "cell_type": "code",
   "execution_count": 3,
   "metadata": {},
   "outputs": [
    {
     "name": "stdout",
     "output_type": "stream",
     "text": [
      "All passed!\n"
     ]
    }
   ],
   "source": [
    "def create_max(num, k):\n",
    "    \"\"\"Create maximum number with k digits.\"\"\"\n",
    "    # your code here\n",
    "    def find_max(num, k):\n",
    "        k -= 1\n",
    "        \n",
    "        if k != 0:\n",
    "            max_v = max(num[:-k])\n",
    "            index = num[:-k].index(max_v)\n",
    "        else:\n",
    "            max_v = max(num)\n",
    "            index = num.index(max_v)\n",
    "            \n",
    "        return (max_v, index)\n",
    "     \n",
    "    value = ''    \n",
    "    while k > 0:\n",
    "        (max_v, index) = find_max(num, k)\n",
    "        value += max_v\n",
    "        \n",
    "        num = num[index + 1:]        \n",
    "        k -= 1\n",
    "            \n",
    "    return value\n",
    "        \n",
    "\n",
    "num = '912583'\n",
    "assert create_max(num, 1) == '9'\n",
    "assert create_max(num, 2) == '98'\n",
    "assert create_max(num, 3) == '983'\n",
    "assert create_max(num, 4) == '9583'\n",
    "assert create_max(num, 5) == '92583'\n",
    "print('All passed!')"
   ]
  },
  {
   "cell_type": "markdown",
   "metadata": {},
   "source": [
    "## Orange Belt\n",
    "*Advanced stuff, certain flexibility of thinking is required*\n",
    "### Linked Lists\n",
    "These tend to be trickier than they seem.\n",
    "\n",
    "First, reverse a linked list iteratively, in place."
   ]
  },
  {
   "cell_type": "code",
   "execution_count": 4,
   "metadata": {},
   "outputs": [
    {
     "name": "stdout",
     "output_type": "stream",
     "text": [
      "All passed!\n"
     ]
    }
   ],
   "source": [
    "class ListNode(object):\n",
    "    def __init__(self, x):\n",
    "        self.val = x\n",
    "        self.next = None\n",
    "        \n",
    "    def __str__(self): # for your debugging purposes\n",
    "        return str(self.val) + '->' + str(self.next)\n",
    "    \n",
    "    def __eq__(self, other): # for asserts to work\n",
    "            return (isinstance(other, self.__class__) \n",
    "                and self.__dict__ == other.__dict__)\n",
    "        \n",
    "def reverse_list(head):\n",
    "    \"\"\"Iterative solution.\"\"\"\n",
    "    # your code here\n",
    "    \n",
    "    current_node = head\n",
    "    prev_node = None\n",
    "    \n",
    "    while current_node is not None:\n",
    "        next_node = current_node.next\n",
    "        current_node.next = prev_node\n",
    "        prev_node = current_node\n",
    "        current_node = next_node\n",
    "        \n",
    "    head = prev_node\n",
    "    \n",
    "    return head\n",
    "        \n",
    "        \n",
    "\n",
    "head = ListNode(1)\n",
    "rev = ListNode(1)\n",
    "assert reverse_list(head) == head\n",
    "\n",
    "head = ListNode(1)\n",
    "head.next = ListNode(2)\n",
    "rev = ListNode(2)\n",
    "rev.next = ListNode(1)\n",
    "assert reverse_list(head) == rev\n",
    "\n",
    "head = ListNode(1)\n",
    "head.next = ListNode(2)\n",
    "head.next.next = ListNode(3)\n",
    "rev = ListNode(3)\n",
    "rev.next = ListNode(2)\n",
    "rev.next.next = ListNode(1)\n",
    "assert reverse_list(head) == rev\n",
    "print('All passed!')"
   ]
  },
  {
   "cell_type": "markdown",
   "metadata": {},
   "source": [
    "Now, let's do the same, only this time recursively."
   ]
  },
  {
   "cell_type": "code",
   "execution_count": 5,
   "metadata": {},
   "outputs": [
    {
     "name": "stdout",
     "output_type": "stream",
     "text": [
      "All passed!\n"
     ]
    }
   ],
   "source": [
    "class ListNode(object):\n",
    "    def __init__(self, x):\n",
    "        self.val = x\n",
    "        self.next = None\n",
    "        \n",
    "    def __str__(self): # for your debugging purposes\n",
    "        return str(self.val) + '->' + str(self.next)\n",
    "    \n",
    "    def __eq__(self, other): # for asserts to work\n",
    "            return (isinstance(other, self.__class__) \n",
    "                and self.__dict__ == other.__dict__)\n",
    "        \n",
    "def reverse_list(head, prev=None):\n",
    "    \"\"\"Recursive solution.\"\"\"\n",
    "    # your code here\n",
    "    \n",
    "    if head is None:\n",
    "        return prev\n",
    "    \n",
    "    temp = head.next\n",
    "    head.next = prev\n",
    "    prev = head\n",
    "    head = temp\n",
    "    \n",
    "    return reverse_list(head, prev)\n",
    "\n",
    "head = ListNode(1)\n",
    "rev = ListNode(1)\n",
    "assert reverse_list(head) == head\n",
    "\n",
    "head = ListNode(1)\n",
    "head.next = ListNode(2)\n",
    "rev = ListNode(2)\n",
    "rev.next = ListNode(1)\n",
    "assert reverse_list(head) == rev\n",
    "\n",
    "head = ListNode(1)\n",
    "head.next = ListNode(2)\n",
    "head.next.next = ListNode(3)\n",
    "rev = ListNode(3)\n",
    "rev.next = ListNode(2)\n",
    "rev.next.next = ListNode(1)\n",
    "assert reverse_list(head) == rev\n",
    "print('All passed!')"
   ]
  },
  {
   "cell_type": "markdown",
   "metadata": {},
   "source": [
    "### Maximum Profit\n",
    "Given stock prices list, find maximum profit possible. You can buy and sell multiple times, but you can't hold more than one share at a time. Hint: the solution is really simple, but it's not easy to figure it out - go over some custom test cases by hand and try to see a pattern."
   ]
  },
  {
   "cell_type": "code",
   "execution_count": 3,
   "metadata": {},
   "outputs": [
    {
     "name": "stdout",
     "output_type": "stream",
     "text": [
      "All passed\n"
     ]
    }
   ],
   "source": [
    "def max_profit(prices):\n",
    "    \"\"\"Find maximum profit possible.\"\"\"\n",
    "    # your code here\n",
    "    \n",
    "    profit = 0\n",
    "    \n",
    "    if len(prices) == 0:\n",
    "        return 0\n",
    "    \n",
    "    sell = prices[len(prices)-1]\n",
    "    buy = sell\n",
    "    \n",
    "    for i in range(len(prices)-2, -1, -1):\n",
    "        if prices[i] > sell or prices[i] > buy:            \n",
    "            profit += sell - buy                \n",
    "            sell = prices[i]\n",
    "            buy = sell\n",
    "        elif prices[i] < buy:\n",
    "            buy = prices[i]\n",
    "\n",
    "    profit += sell - buy\n",
    "    return profit\n",
    "\n",
    "assert max_profit([]) == 0\n",
    "assert max_profit([100]) == 0\n",
    "assert max_profit([1,6,5,2,8,1,4,5]) == 15\n",
    "assert max_profit(range(100, 0, -1)) == 0\n",
    "print('All passed')"
   ]
  },
  {
   "cell_type": "markdown",
   "metadata": {},
   "source": [
    "## Green Belt\n",
    "*You'll be a black belt soon enough*\n",
    "### List Subsets\n",
    "Find all possible subsets of a list (or all possible sets of characters contained in a string)."
   ]
  },
  {
   "cell_type": "code",
   "execution_count": 23,
   "metadata": {},
   "outputs": [
    {
     "ename": "AssertionError",
     "evalue": "",
     "output_type": "error",
     "traceback": [
      "\u001b[0;31m---------------------------------------------------------------------------\u001b[0m",
      "\u001b[0;31mAssertionError\u001b[0m                            Traceback (most recent call last)",
      "\u001b[0;32m<ipython-input-23-59b4ce638ea3>\u001b[0m in \u001b[0;36m<module>\u001b[0;34m()\u001b[0m\n\u001b[1;32m      3\u001b[0m     \u001b[0;31m# your code here\u001b[0m\u001b[0;34m\u001b[0m\u001b[0;34m\u001b[0m\u001b[0m\n\u001b[1;32m      4\u001b[0m \u001b[0;34m\u001b[0m\u001b[0m\n\u001b[0;32m----> 5\u001b[0;31m \u001b[0;32massert\u001b[0m \u001b[0msubsets\u001b[0m\u001b[0;34m(\u001b[0m\u001b[0;34m''\u001b[0m\u001b[0;34m)\u001b[0m \u001b[0;34m==\u001b[0m \u001b[0;34m[\u001b[0m\u001b[0;34m[\u001b[0m\u001b[0;34m]\u001b[0m\u001b[0;34m]\u001b[0m\u001b[0;34m\u001b[0m\u001b[0m\n\u001b[0m\u001b[1;32m      6\u001b[0m \u001b[0;31m# please note, inputs 'abc' and ['a', 'b', 'c'] should be equivalent for your function\u001b[0m\u001b[0;34m\u001b[0m\u001b[0;34m\u001b[0m\u001b[0m\n\u001b[1;32m      7\u001b[0m \u001b[0;32massert\u001b[0m \u001b[0msubsets\u001b[0m\u001b[0;34m(\u001b[0m\u001b[0;34m'abc'\u001b[0m\u001b[0;34m)\u001b[0m \u001b[0;34m==\u001b[0m \u001b[0;34m[\u001b[0m\u001b[0;34m[\u001b[0m\u001b[0;34m]\u001b[0m\u001b[0;34m,\u001b[0m\u001b[0;34m[\u001b[0m\u001b[0;34m'a'\u001b[0m\u001b[0;34m]\u001b[0m\u001b[0;34m,\u001b[0m\u001b[0;34m[\u001b[0m\u001b[0;34m'b'\u001b[0m\u001b[0;34m]\u001b[0m\u001b[0;34m,\u001b[0m\u001b[0;34m[\u001b[0m\u001b[0;34m'a'\u001b[0m\u001b[0;34m,\u001b[0m\u001b[0;34m'b'\u001b[0m\u001b[0;34m]\u001b[0m\u001b[0;34m,\u001b[0m\u001b[0;34m[\u001b[0m\u001b[0;34m'c'\u001b[0m\u001b[0;34m]\u001b[0m\u001b[0;34m,\u001b[0m\u001b[0;34m[\u001b[0m\u001b[0;34m'a'\u001b[0m\u001b[0;34m,\u001b[0m\u001b[0;34m'c'\u001b[0m\u001b[0;34m]\u001b[0m\u001b[0;34m,\u001b[0m\u001b[0;34m[\u001b[0m\u001b[0;34m'b'\u001b[0m\u001b[0;34m,\u001b[0m\u001b[0;34m'c'\u001b[0m\u001b[0;34m]\u001b[0m\u001b[0;34m,\u001b[0m\u001b[0;34m[\u001b[0m\u001b[0;34m'a'\u001b[0m\u001b[0;34m,\u001b[0m\u001b[0;34m'b'\u001b[0m\u001b[0;34m,\u001b[0m\u001b[0;34m'c'\u001b[0m\u001b[0;34m]\u001b[0m\u001b[0;34m]\u001b[0m\u001b[0;34m\u001b[0m\u001b[0m\n",
      "\u001b[0;31mAssertionError\u001b[0m: "
     ]
    }
   ],
   "source": [
    "def subsets(s):\n",
    "    \"\"\"Find all possible subsets of a list.\"\"\"\n",
    "    # your code here\n",
    "\n",
    "assert subsets('') == [[]]\n",
    "# please note, inputs 'abc' and ['a', 'b', 'c'] should be equivalent for your function\n",
    "assert subsets('abc') == [[],['a'],['b'],['a','b'],['c'],['a','c'],['b','c'],['a','b','c']]\n",
    "assert subsets(['a','b','c']) == [[],['a'],['b'],['a','b'],['c'],['a','c'],['b','c'],['a','b','c']]\n",
    "print('All passed!')"
   ]
  },
  {
   "cell_type": "markdown",
   "metadata": {},
   "source": [
    "### String Permutations\n",
    "Find all possible permutations of a string."
   ]
  },
  {
   "cell_type": "code",
   "execution_count": 24,
   "metadata": {},
   "outputs": [
    {
     "ename": "AssertionError",
     "evalue": "",
     "output_type": "error",
     "traceback": [
      "\u001b[0;31m---------------------------------------------------------------------------\u001b[0m",
      "\u001b[0;31mAssertionError\u001b[0m                            Traceback (most recent call last)",
      "\u001b[0;32m<ipython-input-24-c23f5be55d7d>\u001b[0m in \u001b[0;36m<module>\u001b[0;34m()\u001b[0m\n\u001b[1;32m      3\u001b[0m     \u001b[0;31m# your code here\u001b[0m\u001b[0;34m\u001b[0m\u001b[0;34m\u001b[0m\u001b[0m\n\u001b[1;32m      4\u001b[0m \u001b[0;34m\u001b[0m\u001b[0m\n\u001b[0;32m----> 5\u001b[0;31m \u001b[0;32massert\u001b[0m \u001b[0mstring_permutations\u001b[0m\u001b[0;34m(\u001b[0m\u001b[0;34m''\u001b[0m\u001b[0;34m)\u001b[0m \u001b[0;34m==\u001b[0m \u001b[0;34m[\u001b[0m\u001b[0;34m''\u001b[0m\u001b[0;34m]\u001b[0m\u001b[0;34m\u001b[0m\u001b[0m\n\u001b[0m\u001b[1;32m      6\u001b[0m \u001b[0;32massert\u001b[0m \u001b[0mstring_permutations\u001b[0m\u001b[0;34m(\u001b[0m\u001b[0;34m'abc'\u001b[0m\u001b[0;34m)\u001b[0m \u001b[0;34m==\u001b[0m \u001b[0;34m[\u001b[0m\u001b[0;34m'abc'\u001b[0m\u001b[0;34m,\u001b[0m\u001b[0;34m'acb'\u001b[0m\u001b[0;34m,\u001b[0m\u001b[0;34m'bac'\u001b[0m\u001b[0;34m,\u001b[0m\u001b[0;34m'bca'\u001b[0m\u001b[0;34m,\u001b[0m\u001b[0;34m'cab'\u001b[0m\u001b[0;34m,\u001b[0m\u001b[0;34m'cba'\u001b[0m\u001b[0;34m]\u001b[0m\u001b[0;34m\u001b[0m\u001b[0m\n\u001b[1;32m      7\u001b[0m \u001b[0;32mprint\u001b[0m\u001b[0;34m(\u001b[0m\u001b[0;34m'All passed!'\u001b[0m\u001b[0;34m)\u001b[0m\u001b[0;34m\u001b[0m\u001b[0m\n",
      "\u001b[0;31mAssertionError\u001b[0m: "
     ]
    }
   ],
   "source": [
    "def string_permutations(s):\n",
    "    \"\"\"Find all possible permutations of a string.\"\"\"\n",
    "    # your code here\n",
    "\n",
    "assert string_permutations('') == ['']\n",
    "assert string_permutations('abc') == ['abc','acb','bac','bca','cab','cba']\n",
    "print('All passed!')"
   ]
  },
  {
   "cell_type": "markdown",
   "metadata": {},
   "source": [
    "## Blue Belt\n",
    "*With great power comes great responsibility*"
   ]
  },
  {
   "cell_type": "markdown",
   "metadata": {},
   "source": [
    "### Implement Quicksort"
   ]
  },
  {
   "cell_type": "code",
   "execution_count": 1,
   "metadata": {},
   "outputs": [
    {
     "ename": "AssertionError",
     "evalue": "",
     "output_type": "error",
     "traceback": [
      "\u001b[0;31m---------------------------------------------------------------------------\u001b[0m",
      "\u001b[0;31mAssertionError\u001b[0m                            Traceback (most recent call last)",
      "\u001b[0;32m<ipython-input-1-cccf21211771>\u001b[0m in \u001b[0;36m<module>\u001b[0;34m()\u001b[0m\n\u001b[1;32m      5\u001b[0m \u001b[0ma\u001b[0m \u001b[0;34m=\u001b[0m \u001b[0;34m[\u001b[0m\u001b[0;36m2\u001b[0m\u001b[0;34m,\u001b[0m \u001b[0;36m9\u001b[0m\u001b[0;34m,\u001b[0m \u001b[0;36m2\u001b[0m\u001b[0;34m,\u001b[0m \u001b[0;36m3\u001b[0m\u001b[0;34m,\u001b[0m \u001b[0;36m5\u001b[0m\u001b[0;34m,\u001b[0m \u001b[0;36m8\u001b[0m\u001b[0;34m,\u001b[0m \u001b[0;36m1\u001b[0m\u001b[0;34m]\u001b[0m\u001b[0;34m\u001b[0m\u001b[0m\n\u001b[1;32m      6\u001b[0m \u001b[0mquicksort\u001b[0m\u001b[0;34m(\u001b[0m\u001b[0ma\u001b[0m\u001b[0;34m)\u001b[0m\u001b[0;34m\u001b[0m\u001b[0m\n\u001b[0;32m----> 7\u001b[0;31m \u001b[0;32massert\u001b[0m \u001b[0ma\u001b[0m \u001b[0;34m==\u001b[0m \u001b[0;34m[\u001b[0m\u001b[0;36m1\u001b[0m\u001b[0;34m,\u001b[0m \u001b[0;36m2\u001b[0m\u001b[0;34m,\u001b[0m \u001b[0;36m2\u001b[0m\u001b[0;34m,\u001b[0m \u001b[0;36m3\u001b[0m\u001b[0;34m,\u001b[0m \u001b[0;36m5\u001b[0m\u001b[0;34m,\u001b[0m \u001b[0;36m8\u001b[0m\u001b[0;34m,\u001b[0m \u001b[0;36m9\u001b[0m\u001b[0;34m]\u001b[0m\u001b[0;34m\u001b[0m\u001b[0m\n\u001b[0m\u001b[1;32m      8\u001b[0m \u001b[0;32mprint\u001b[0m\u001b[0;34m(\u001b[0m\u001b[0;34m'All passed!'\u001b[0m\u001b[0;34m)\u001b[0m\u001b[0;34m\u001b[0m\u001b[0m\n",
      "\u001b[0;31mAssertionError\u001b[0m: "
     ]
    }
   ],
   "source": [
    "def quicksort(nums):\n",
    "    \"\"\"Quicksort using last element as pivot.\"\"\"\n",
    "    # your code here\n",
    "    \n",
    "a = [2, 9, 2, 3, 5, 8, 1]\n",
    "quicksort(a)\n",
    "assert a == [1, 2, 2, 3, 5, 8, 9]\n",
    "print('All passed!')"
   ]
  },
  {
   "cell_type": "markdown",
   "metadata": {},
   "source": [
    "### Implement Mergesort"
   ]
  },
  {
   "cell_type": "code",
   "execution_count": 1,
   "metadata": {},
   "outputs": [
    {
     "ename": "AssertionError",
     "evalue": "",
     "output_type": "error",
     "traceback": [
      "\u001b[0;31m---------------------------------------------------------------------------\u001b[0m",
      "\u001b[0;31mAssertionError\u001b[0m                            Traceback (most recent call last)",
      "\u001b[0;32m<ipython-input-1-ca1541b26c25>\u001b[0m in \u001b[0;36m<module>\u001b[0;34m()\u001b[0m\n\u001b[1;32m      4\u001b[0m \u001b[1;33m\u001b[0m\u001b[0m\n\u001b[1;32m      5\u001b[0m \u001b[0ma\u001b[0m \u001b[1;33m=\u001b[0m \u001b[1;33m[\u001b[0m\u001b[1;36m2\u001b[0m\u001b[1;33m,\u001b[0m \u001b[1;36m9\u001b[0m\u001b[1;33m,\u001b[0m \u001b[1;36m2\u001b[0m\u001b[1;33m,\u001b[0m \u001b[1;36m3\u001b[0m\u001b[1;33m,\u001b[0m \u001b[1;36m5\u001b[0m\u001b[1;33m,\u001b[0m \u001b[1;36m8\u001b[0m\u001b[1;33m,\u001b[0m \u001b[1;36m1\u001b[0m\u001b[1;33m]\u001b[0m\u001b[1;33m\u001b[0m\u001b[0m\n\u001b[0;32m----> 6\u001b[0;31m \u001b[1;32massert\u001b[0m \u001b[0mmergesort\u001b[0m\u001b[1;33m(\u001b[0m\u001b[0ma\u001b[0m\u001b[1;33m)\u001b[0m \u001b[1;33m==\u001b[0m \u001b[1;33m[\u001b[0m\u001b[1;36m1\u001b[0m\u001b[1;33m,\u001b[0m \u001b[1;36m2\u001b[0m\u001b[1;33m,\u001b[0m \u001b[1;36m2\u001b[0m\u001b[1;33m,\u001b[0m \u001b[1;36m3\u001b[0m\u001b[1;33m,\u001b[0m \u001b[1;36m5\u001b[0m\u001b[1;33m,\u001b[0m \u001b[1;36m8\u001b[0m\u001b[1;33m,\u001b[0m \u001b[1;36m9\u001b[0m\u001b[1;33m]\u001b[0m\u001b[1;33m\u001b[0m\u001b[0m\n\u001b[0m\u001b[1;32m      7\u001b[0m \u001b[0mprint\u001b[0m\u001b[1;33m(\u001b[0m\u001b[1;34m'All passed!'\u001b[0m\u001b[1;33m)\u001b[0m\u001b[1;33m\u001b[0m\u001b[0m\n",
      "\u001b[0;31mAssertionError\u001b[0m: "
     ]
    }
   ],
   "source": [
    "def mergesort(nums):\n",
    "    \"\"\"Mergesort.\"\"\"\n",
    "    # your code here\n",
    "    \n",
    "a = [2, 9, 2, 3, 5, 8, 1]\n",
    "assert mergesort(a) == [1, 2, 2, 3, 5, 8, 9]\n",
    "print('All passed!')"
   ]
  },
  {
   "cell_type": "markdown",
   "metadata": {},
   "source": [
    "### Find shortest path in undirected graph\n",
    "Given a graph *g* represented as adjacency list and nodes *u* and *v*, find shortest path between *u* and *v*."
   ]
  },
  {
   "cell_type": "code",
   "execution_count": 2,
   "metadata": {},
   "outputs": [
    {
     "ename": "AssertionError",
     "evalue": "",
     "output_type": "error",
     "traceback": [
      "\u001b[0;31m---------------------------------------------------------------------------\u001b[0m",
      "\u001b[0;31mAssertionError\u001b[0m                            Traceback (most recent call last)",
      "\u001b[0;32m<ipython-input-2-6e852048f213>\u001b[0m in \u001b[0;36m<module>\u001b[0;34m()\u001b[0m\n\u001b[1;32m      3\u001b[0m     \u001b[1;31m# your code here\u001b[0m\u001b[1;33m\u001b[0m\u001b[1;33m\u001b[0m\u001b[0m\n\u001b[1;32m      4\u001b[0m \u001b[1;33m\u001b[0m\u001b[0m\n\u001b[0;32m----> 5\u001b[0;31m \u001b[1;32massert\u001b[0m \u001b[0mshortest_path\u001b[0m\u001b[1;33m(\u001b[0m\u001b[1;33m{\u001b[0m\u001b[1;34m'a'\u001b[0m\u001b[1;33m:\u001b[0m \u001b[1;33m[\u001b[0m\u001b[1;34m'a'\u001b[0m\u001b[1;33m]\u001b[0m\u001b[1;33m}\u001b[0m\u001b[1;33m,\u001b[0m \u001b[1;34m'a'\u001b[0m\u001b[1;33m,\u001b[0m \u001b[1;34m'a'\u001b[0m\u001b[1;33m)\u001b[0m \u001b[1;33m==\u001b[0m \u001b[1;33m[\u001b[0m\u001b[1;34m'a'\u001b[0m\u001b[1;33m]\u001b[0m\u001b[1;33m\u001b[0m\u001b[0m\n\u001b[0m\u001b[1;32m      6\u001b[0m \u001b[1;32massert\u001b[0m \u001b[0mshortest_path\u001b[0m\u001b[1;33m(\u001b[0m\u001b[1;33m{\u001b[0m\u001b[1;34m'a'\u001b[0m\u001b[1;33m:\u001b[0m \u001b[1;33m[\u001b[0m\u001b[1;33m]\u001b[0m\u001b[1;33m,\u001b[0m \u001b[1;34m'b'\u001b[0m\u001b[1;33m:\u001b[0m \u001b[1;33m[\u001b[0m\u001b[1;33m]\u001b[0m\u001b[1;33m}\u001b[0m\u001b[1;33m,\u001b[0m \u001b[1;34m'a'\u001b[0m\u001b[1;33m,\u001b[0m \u001b[1;34m'b'\u001b[0m\u001b[1;33m)\u001b[0m \u001b[1;33m==\u001b[0m \u001b[1;33m-\u001b[0m\u001b[1;36m1\u001b[0m\u001b[1;33m\u001b[0m\u001b[0m\n\u001b[1;32m      7\u001b[0m graph = {'a': ['b'], 'b': ['a', 'c', 'd'], 'c': ['b', 'd', 'e'], 'd': ['b', 'c', 'f'], \n",
      "\u001b[0;31mAssertionError\u001b[0m: "
     ]
    }
   ],
   "source": [
    "def shortest_path(g, u, v):\n",
    "    \"\"\"Find shortest path between u and v in g.\"\"\"\n",
    "    # your code here\n",
    "\n",
    "assert shortest_path({'a': ['a']}, 'a', 'a') == ['a']\n",
    "assert shortest_path({'a': [], 'b': []}, 'a', 'b') == -1\n",
    "graph = {'a': ['b'], 'b': ['a', 'c', 'd'], 'c': ['b', 'd', 'e'], 'd': ['b', 'c', 'f'], \n",
    "     'e': ['c', 'f', 'g'], 'f': ['d', 'e', 'g'], 'g': ['e', 'f']}\n",
    "start = 'a'\n",
    "end = 'g'\n",
    "assert len(shortest_path(graph, start, end)) == 5\n",
    "print('All passed!')"
   ]
  },
  {
   "cell_type": "markdown",
   "metadata": {},
   "source": [
    "## Red and Black belts\n",
    "Implementing your own hash table, heap, caching algorithms and more fun coming soon..."
   ]
  }
 ],
 "metadata": {
  "anaconda-cloud": {},
  "kernelspec": {
   "display_name": "Python 3",
   "language": "python",
   "name": "python3"
  },
  "language_info": {
   "codemirror_mode": {
    "name": "ipython",
    "version": 3
   },
   "file_extension": ".py",
   "mimetype": "text/x-python",
   "name": "python",
   "nbconvert_exporter": "python",
   "pygments_lexer": "ipython3",
   "version": "3.6.1"
  }
 },
 "nbformat": 4,
 "nbformat_minor": 1
}
